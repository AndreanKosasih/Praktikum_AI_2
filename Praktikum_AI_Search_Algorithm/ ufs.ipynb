{
  "nbformat": 4,
  "nbformat_minor": 0,
  "metadata": {
    "colab": {
      "provenance": [],
      "authorship_tag": "ABX9TyN43UPctvshUo/SzAf/pnQ8",
      "include_colab_link": true
    },
    "kernelspec": {
      "name": "python3",
      "display_name": "Python 3"
    },
    "language_info": {
      "name": "python"
    }
  },
  "cells": [
    {
      "cell_type": "markdown",
      "metadata": {
        "id": "view-in-github",
        "colab_type": "text"
      },
      "source": [
        "<a href=\"https://colab.research.google.com/github/AndreanKosasih/Praktikum_AI_2/blob/main/Praktikum_AI_Search_Algorithm/%20ufs.ipynb\" target=\"_parent\"><img src=\"https://colab.research.google.com/assets/colab-badge.svg\" alt=\"Open In Colab\"/></a>"
      ]
    },
    {
      "cell_type": "code",
      "execution_count": null,
      "metadata": {
        "colab": {
          "base_uri": "https://localhost:8080/"
        },
        "id": "nS50KEg29z2i",
        "outputId": "b481f137-ab12-44bd-8965-1444bc2b5308"
      },
      "outputs": [
        {
          "output_type": "stream",
          "name": "stdout",
          "text": [
            "Minimum cost from 0 to 6 is = 3\n"
          ]
        }
      ],
      "source": [
        "# Python3 implementation of Uniform Cost Search\n",
        "\n",
        "# Returns the minimum cost in a vector if there are multiple goal states\n",
        "def uniform_cost_search(goal, start):\n",
        "    global graph, cost\n",
        "    answer = []\n",
        "\n",
        "    # Create a priority queue\n",
        "    queue = []\n",
        "\n",
        "    # Set the answer vector to max value\n",
        "    for i in range(len(goal)):\n",
        "        answer.append(10**8)\n",
        "\n",
        "    # Insert the starting index\n",
        "    queue.append([0, start])\n",
        "\n",
        "    # Map to store visited nodes\n",
        "    visited = {}\n",
        "\n",
        "    # Count variable\n",
        "    count = 0\n",
        "\n",
        "    # While the queue is not empty\n",
        "    while len(queue) > 0:\n",
        "        # Sort queue based on cost (ascending)\n",
        "        queue = sorted(queue)\n",
        "        p = queue.pop(0)  # pop with lowest cost\n",
        "\n",
        "        # If already visited, skip\n",
        "        if p[1] in visited:\n",
        "            continue\n",
        "\n",
        "        # Mark as visited\n",
        "        visited[p[1]] = 1\n",
        "\n",
        "        # Check if the element is part of the goal list\n",
        "        if p[1] in goal:\n",
        "            index = goal.index(p[1])\n",
        "            if answer[index] > p[0]:\n",
        "                answer[index] = p[0]\n",
        "                count += 1\n",
        "            if count == len(goal):\n",
        "                return answer\n",
        "\n",
        "        # Traverse neighbors\n",
        "        for i in range(len(graph[p[1]])):\n",
        "            neighbor = graph[p[1]][i]\n",
        "            total_cost = p[0] + cost[(p[1], neighbor)]\n",
        "            queue.append([total_cost, neighbor])\n",
        "\n",
        "    return answer\n",
        "\n",
        "\n",
        "# Main function\n",
        "if __name__ == '__main__':\n",
        "    # Create the graph\n",
        "    graph, cost = [[] for i in range(8)], {}\n",
        "\n",
        "    # Add edges\n",
        "    graph[0].append(1)\n",
        "    graph[0].append(3)\n",
        "    graph[3].append(1)\n",
        "    graph[3].append(6)\n",
        "    graph[3].append(4)\n",
        "    graph[1].append(6)\n",
        "    graph[4].append(2)\n",
        "    graph[4].append(5)\n",
        "    graph[2].append(1)\n",
        "    graph[5].append(2)\n",
        "    graph[5].append(6)\n",
        "    graph[6].append(4)\n",
        "\n",
        "    # Add the cost\n",
        "    cost[(0, 1)] = 2\n",
        "    cost[(0, 3)] = 5\n",
        "    cost[(1, 6)] = 1\n",
        "    cost[(3, 1)] = 5\n",
        "    cost[(3, 6)] = 6\n",
        "    cost[(3, 4)] = 2\n",
        "    cost[(2, 1)] = 4\n",
        "    cost[(4, 2)] = 4\n",
        "    cost[(4, 5)] = 3\n",
        "    cost[(5, 2)] = 6\n",
        "    cost[(5, 6)] = 3\n",
        "    cost[(6, 4)] = 7\n",
        "\n",
        "    # Set the goal\n",
        "    goal = [6]\n",
        "\n",
        "    # Get the answer\n",
        "    answer = uniform_cost_search(goal, 0)\n",
        "\n",
        "    # Print the answer\n",
        "    print(\"Minimum cost from 0 to 6 is =\", answer[0])\n"
      ]
    }
  ]
}